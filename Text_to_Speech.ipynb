{
 "cells": [
  {
   "cell_type": "markdown",
   "id": "325627fc-e8a5-4c38-91f5-864c507ee586",
   "metadata": {},
   "source": [
    "# Text-to-Speech"
   ]
  },
  {
   "cell_type": "code",
   "execution_count": 1,
   "id": "573868b2-465e-416c-a861-394e2a613d14",
   "metadata": {},
   "outputs": [],
   "source": [
    "from gtts import gTTS\n",
    "import os"
   ]
  },
  {
   "cell_type": "code",
   "execution_count": 3,
   "id": "4fe39d4b-afaf-4b97-9017-d3c6091d17d8",
   "metadata": {},
   "outputs": [
    {
     "data": {
      "text/plain": [
       "0"
      ]
     },
     "execution_count": 3,
     "metadata": {},
     "output_type": "execute_result"
    }
   ],
   "source": [
    "text = \"\"\"Machine learning is a branch of artificial intelligence that enables computers to learn from data and improve over time without \n",
    "          being explicitly programmed. It uses algorithms to find patterns and make predictions or decisions based on input data. Common applications \n",
    "          include image recognition, recommendation systems, and fraud detection.\"\"\"\n",
    "\n",
    "tts = gTTS(text=text, lang='en')\n",
    "tts.save(\"output.mp3\")\n",
    "\n",
    "os.system(\"start output.mp3\")"
   ]
  },
  {
   "cell_type": "code",
   "execution_count": null,
   "id": "b10be822-9e38-4675-91b2-8dccd8ed7cf1",
   "metadata": {},
   "outputs": [],
   "source": []
  }
 ],
 "metadata": {
  "kernelspec": {
   "display_name": "Python(speech_env)",
   "language": "python",
   "name": "speech_env"
  },
  "language_info": {
   "codemirror_mode": {
    "name": "ipython",
    "version": 3
   },
   "file_extension": ".py",
   "mimetype": "text/x-python",
   "name": "python",
   "nbconvert_exporter": "python",
   "pygments_lexer": "ipython3",
   "version": "3.9.21"
  }
 },
 "nbformat": 4,
 "nbformat_minor": 5
}
